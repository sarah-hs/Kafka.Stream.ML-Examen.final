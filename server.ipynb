{
 "cells": [
  {
   "cell_type": "code",
   "execution_count": 1,
   "metadata": {},
   "outputs": [],
   "source": [
    "import socketserver\n",
    "import time\n",
    "from random import choice\n",
    "import requests\n",
    "import json\n",
    "from pprint import pprint"
   ]
  },
  {
   "cell_type": "code",
   "execution_count": 2,
   "metadata": {},
   "outputs": [],
   "source": [
    "ACCESS_KEY = 'de659c731385b88a7f2394efc9355af8'\n",
    "\n",
    "class AlphaTCPHandler(socketserver.BaseRequestHandler):\n",
    "    def handle(self):\n",
    "        print('AlphaTCPHandler')\n",
    "        # Make four Open Weather API calls format for 4 cities: London, Chicago, Shangai, and Singapore\n",
    "        url = 'https://api.openweathermap.org/data/2.5/weather?q=London&appid='+ACCESS_KEY\n",
    "        url2 = 'https://api.openweathermap.org/data/2.5/weather?q=Chicago&appid='+ACCESS_KEY\n",
    "        url3 = 'https://api.openweathermap.org/data/2.5/weather?q=Shangai&appid='+ACCESS_KEY\n",
    "        url4 = 'https://api.openweathermap.org/data/2.5/weather?q=Singapore&appid='+ACCESS_KEY\n",
    "        \n",
    "        while True:\n",
    "            # Requests to API in json format\n",
    "            info = requests.get(url).json()\n",
    "            info2 = requests.get(url2).json()\n",
    "            info3 = requests.get(url3).json()\n",
    "            info4 = requests.get(url4).json()\n",
    "            \n",
    "            # Encode jsons to pass in format to the client\n",
    "            mess = (json.dumps(info)+'\\n').encode(\"utf-8\")\n",
    "            mess2 = (json.dumps(info2)+'\\n').encode(\"utf-8\")\n",
    "            mess3 = (json.dumps(info3)+'\\n').encode(\"utf-8\")\n",
    "            mess4 = (json.dumps(info4)+'\\n').encode(\"utf-8\")\n",
    "            \n",
    "            # Send coded jsons\n",
    "            self.request.send(mess)\n",
    "            self.request.send(mess2)\n",
    "            self.request.send(mess3)\n",
    "            self.request.send(mess4)\n",
    "            \n",
    "            # Sends data every 12 minutes\n",
    "            time.sleep(720)"
   ]
  },
  {
   "cell_type": "code",
   "execution_count": 3,
   "metadata": {
    "scrolled": true
   },
   "outputs": [
    {
     "name": "stdout",
     "output_type": "stream",
     "text": [
      "{'base': 'stations',\n",
      " 'clouds': {'all': 40},\n",
      " 'cod': 200,\n",
      " 'coord': {'lat': 51.51, 'lon': -0.13},\n",
      " 'dt': 1606944137,\n",
      " 'id': 2643743,\n",
      " 'main': {'feels_like': 276.16,\n",
      "          'humidity': 93,\n",
      "          'pressure': 1011,\n",
      "          'temp': 279.41,\n",
      "          'temp_max': 280.15,\n",
      "          'temp_min': 278.71},\n",
      " 'name': 'London',\n",
      " 'sys': {'country': 'GB',\n",
      "         'id': 1414,\n",
      "         'sunrise': 1606895155,\n",
      "         'sunset': 1606924476,\n",
      "         'type': 1},\n",
      " 'timezone': 0,\n",
      " 'visibility': 10000,\n",
      " 'weather': [{'description': 'scattered clouds',\n",
      "              'icon': '03n',\n",
      "              'id': 802,\n",
      "              'main': 'Clouds'}],\n",
      " 'wind': {'deg': 250, 'speed': 3.1}}\n"
     ]
    }
   ],
   "source": [
    "# Prints the format of the requested data\n",
    "\n",
    "url = 'https://api.openweathermap.org/data/2.5/weather?q=London&appid='+ACCESS_KEY\n",
    "url2 = 'https://api.openweathermap.org/data/2.5/weather?q=Chicago&appid='+ACCESS_KEY\n",
    "url3 = 'https://api.openweathermap.org/data/2.5/weather?q=Shangai&appid='+ACCESS_KEY\n",
    "url4 = 'https://api.openweathermap.org/data/2.5/weather?q=Singapore&appid='+ACCESS_KEY\n",
    "\n",
    "info = requests.get(url).json()\n",
    "info2 = requests.get(url2).json()\n",
    "info3 = requests.get(url3).json()\n",
    "info4 = requests.get(url4).json()\n",
    "\n",
    "ss = {\"lugar1\": info, \"lugar2\": info2, \"lugar3\": info3, \"lugar4\": info4}\n",
    "mess = (json.dumps(ss)+'\\n').encode(\"utf-8\")\n",
    "pprint(json.loads(mess)['lugar1'])"
   ]
  },
  {
   "cell_type": "code",
   "execution_count": null,
   "metadata": {},
   "outputs": [
    {
     "name": "stdout",
     "output_type": "stream",
     "text": [
      "server starting localhost:9009\n"
     ]
    }
   ],
   "source": [
    "# Host and port server declaration\n",
    "host = 'localhost'\n",
    "port = 9009\n",
    "\n",
    " # Inittialize server at specified port\n",
    "server = socketserver.TCPServer((host, port), AlphaTCPHandler)\n",
    "print(f'server starting {host}:{port}')\n",
    "# Lets the server keep awake\n",
    "server.serve_forever()"
   ]
  }
 ],
 "metadata": {
  "kernelspec": {
   "display_name": "Python 3",
   "language": "python",
   "name": "python3"
  },
  "language_info": {
   "codemirror_mode": {
    "name": "ipython",
    "version": 3
   },
   "file_extension": ".py",
   "mimetype": "text/x-python",
   "name": "python",
   "nbconvert_exporter": "python",
   "pygments_lexer": "ipython3",
   "version": "3.8.5"
  }
 },
 "nbformat": 4,
 "nbformat_minor": 4
}
